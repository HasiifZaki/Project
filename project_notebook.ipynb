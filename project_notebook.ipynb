{
 "cells": [
  {
   "cell_type": "code",
   "execution_count": 17,
   "id": "51ccc54c",
   "metadata": {},
   "outputs": [],
   "source": [
    "from PIL import Image\n",
    "import os\n",
    "import glob\n",
    "import shutil\n",
    "from sklearn.model_selection import train_test_split"
   ]
  },
  {
   "cell_type": "code",
   "execution_count": 18,
   "id": "496a989f",
   "metadata": {},
   "outputs": [],
   "source": [
    "def resize_images(input_folder, output_folder, img_size=(500, 500)):\n",
    "    os.makedirs(output_folder, exist_ok=True)\n",
    "    for img_path in glob.glob(os.path.join(input_folder, '*.jpg')):\n",
    "        try:\n",
    "            with Image.open(img_path) as img:\n",
    "                img = img.convert('RGB')  # Convert to RGB mode\n",
    "                img = img.resize(img_size)\n",
    "                img.save(os.path.join(output_folder, os.path.basename(img_path)))\n",
    "        except Exception as e:\n",
    "            print(f\"Error processing {img_path}: {e}\")\n",
    "\n",
    "def split_dataset(input_folder, output_folder, train_ratio=0.7, val_ratio=0.2):\n",
    "    images = glob.glob(os.path.join(input_folder, '*.jpg'))\n",
    "    print(f\"Found {len(images)} images in {input_folder}\")\n",
    "    if len(images) == 0:\n",
    "        raise ValueError(f\"No images found in {input_folder}\")\n",
    "\n",
    "    train_images, test_images = train_test_split(images, test_size=1 - train_ratio, random_state=42)\n",
    "    val_images, test_images = train_test_split(test_images, test_size=val_ratio / (1 - train_ratio), random_state=42)\n",
    "\n",
    "    for category, img_list in zip(['train', 'val', 'test'], [train_images, val_images, test_images]):\n",
    "        category_folder = os.path.join(output_folder, category)\n",
    "        os.makedirs(category_folder, exist_ok=True)\n",
    "        for img_path in img_list:\n",
    "            shutil.copy(img_path, category_folder)\n"
   ]
  },
  {
   "cell_type": "code",
   "execution_count": 19,
   "id": "0a4f9a05",
   "metadata": {},
   "outputs": [],
   "source": [
    "base_folder = r'C:\\Users\\User\\Downloads\\Documents\\ISB46703 PRINCIPLES OF ARTIFICIAL INTELLIGENCE\\project\\data'\n",
    "subspecies_folders = ['Monarch', 'Red Admiral', 'Small White', 'Painted Lady', 'Gulf Fritillary']\n",
    "\n",
    "# Standardize images for each subspecies\n",
    "for subspecies in subspecies_folders:\n",
    "    input_folder = os.path.join(base_folder, subspecies)\n",
    "    output_folder = os.path.join(base_folder, 'standardized', subspecies)\n",
    "    resize_images(input_folder, output_folder)\n"
   ]
  },
  {
   "cell_type": "code",
   "execution_count": 20,
   "id": "3aa61112",
   "metadata": {},
   "outputs": [
    {
     "name": "stdout",
     "output_type": "stream",
     "text": [
      "Found 2037 images in C:\\Users\\User\\Downloads\\Documents\\ISB46703 PRINCIPLES OF ARTIFICIAL INTELLIGENCE\\project\\data\\standardized\\Monarch\n",
      "Found 2005 images in C:\\Users\\User\\Downloads\\Documents\\ISB46703 PRINCIPLES OF ARTIFICIAL INTELLIGENCE\\project\\data\\standardized\\Red Admiral\n",
      "Found 2025 images in C:\\Users\\User\\Downloads\\Documents\\ISB46703 PRINCIPLES OF ARTIFICIAL INTELLIGENCE\\project\\data\\standardized\\Small White\n",
      "Found 1939 images in C:\\Users\\User\\Downloads\\Documents\\ISB46703 PRINCIPLES OF ARTIFICIAL INTELLIGENCE\\project\\data\\standardized\\Painted Lady\n",
      "Found 2003 images in C:\\Users\\User\\Downloads\\Documents\\ISB46703 PRINCIPLES OF ARTIFICIAL INTELLIGENCE\\project\\data\\standardized\\Gulf Fritillary\n"
     ]
    }
   ],
   "source": [
    "base_folder = r'C:\\Users\\User\\Downloads\\Documents\\ISB46703 PRINCIPLES OF ARTIFICIAL INTELLIGENCE\\project\\data\\standardized'\n",
    "subspecies_folders = ['Monarch', 'Red Admiral', 'Small White', 'Painted Lady', 'Gulf Fritillary']\n",
    "\n",
    "# Split standardized images for each subspecies\n",
    "for subspecies in subspecies_folders:\n",
    "    input_folder = os.path.join(base_folder, subspecies)\n",
    "    output_folder = os.path.join(base_folder, 'split', subspecies)\n",
    "    try:\n",
    "        split_dataset(input_folder, output_folder)\n",
    "    except ValueError as e:\n",
    "        print(e)\n"
   ]
  },
  {
   "cell_type": "code",
   "execution_count": null,
   "id": "1e53ca0a",
   "metadata": {},
   "outputs": [],
   "source": []
  }
 ],
 "metadata": {
  "kernelspec": {
   "display_name": "Python 3 (ipykernel)",
   "language": "python",
   "name": "python3"
  },
  "language_info": {
   "codemirror_mode": {
    "name": "ipython",
    "version": 3
   },
   "file_extension": ".py",
   "mimetype": "text/x-python",
   "name": "python",
   "nbconvert_exporter": "python",
   "pygments_lexer": "ipython3",
   "version": "3.7.1"
  }
 },
 "nbformat": 4,
 "nbformat_minor": 5
}
